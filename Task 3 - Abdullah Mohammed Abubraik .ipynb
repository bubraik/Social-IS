{
 "cells": [
  {
   "cell_type": "code",
   "execution_count": 1,
   "id": "58d61dac",
   "metadata": {},
   "outputs": [],
   "source": [
    "import networkx as nx\n",
    "%matplotlib inline"
   ]
  },
  {
   "cell_type": "code",
   "execution_count": 22,
   "id": "e4c74af6",
   "metadata": {},
   "outputs": [
    {
     "data": {
      "image/png": "[encoded data removed]",
      "text/plain": [
       "<Figure size 432x288 with 1 Axes>"
      ]
     },
     "metadata": {},
     "output_type": "display_data"
    }
   ],
   "source": [
    "q= nx.Graph()\n",
    "\n",
    "q.add_nodes_from([1,2,3,4])\n",
    "\n",
    "q.add_edges_from([(1,2),(2,3),(1,3),(1,4)])\n",
    "\n",
    "nx.draw(q, with_labels=True,node_color='red',node_size=1500)"
   ]
  },
  {
   "cell_type": "code",
   "execution_count": 23,
   "id": "1965943a",
   "metadata": {},
   "outputs": [
    {
     "data": {
      "text/plain": [
       "True"
      ]
     },
     "execution_count": 23,
     "metadata": {},
     "output_type": "execute_result"
    }
   ],
   "source": [
    "nx.has_path(q, 3, 4)"
   ]
  },
  {
   "cell_type": "code",
   "execution_count": 24,
   "id": "8341e271",
   "metadata": {},
   "outputs": [
    {
     "data": {
      "text/plain": [
       "[[3, 2, 1, 4], [3, 1, 4]]"
      ]
     },
     "execution_count": 24,
     "metadata": {},
     "output_type": "execute_result"
    }
   ],
   "source": [
    "list(nx.all_simple_paths(q, 3, 4))"
   ]
  },
  {
   "cell_type": "code",
   "execution_count": 25,
   "id": "da038abb",
   "metadata": {},
   "outputs": [
    {
     "data": {
      "text/plain": [
       "[3, 1, 4]"
      ]
     },
     "execution_count": 25,
     "metadata": {},
     "output_type": "execute_result"
    }
   ],
   "source": [
    "nx.shortest_path(q, 3, 4)"
   ]
  },
  {
   "cell_type": "code",
   "execution_count": 26,
   "id": "88a020b6",
   "metadata": {},
   "outputs": [
    {
     "data": {
      "text/plain": [
       "2"
      ]
     },
     "execution_count": 26,
     "metadata": {},
     "output_type": "execute_result"
    }
   ],
   "source": [
    "nx.shortest_path_length(q, 3, 4)"
   ]
  },
  {
   "cell_type": "code",
   "execution_count": 27,
   "id": "3647f958",
   "metadata": {},
   "outputs": [
    {
     "data": {
      "text/plain": [
       "True"
      ]
     },
     "execution_count": 27,
     "metadata": {},
     "output_type": "execute_result"
    }
   ],
   "source": [
    "nx.is_connected(q)"
   ]
  },
  {
   "cell_type": "code",
   "execution_count": 30,
   "id": "8f479bce",
   "metadata": {},
   "outputs": [
    {
     "data": {
      "image/png": "[encoded data removed]",
      "text/plain": [
       "<Figure size 432x288 with 1 Axes>"
      ]
     },
     "metadata": {},
     "output_type": "display_data"
    }
   ],
   "source": [
    "Go = nx.Graph()\n",
    "\n",
    "nx.add_cycle(Go,(1,2,3))\n",
    "Go.add_edge(4,5)\n",
    "\n",
    "nx.draw(Go, with_labels=True,node_size=1500)"
   ]
  },
  {
   "cell_type": "code",
   "execution_count": 31,
   "id": "42c0aa93",
   "metadata": {},
   "outputs": [
    {
     "data": {
      "text/plain": [
       "False"
      ]
     },
     "execution_count": 31,
     "metadata": {},
     "output_type": "execute_result"
    }
   ],
   "source": [
    "nx.is_connected(Go)"
   ]
  },
  {
   "cell_type": "code",
   "execution_count": 32,
   "id": "06c39875",
   "metadata": {},
   "outputs": [
    {
     "data": {
      "text/plain": [
       "False"
      ]
     },
     "execution_count": 32,
     "metadata": {},
     "output_type": "execute_result"
    }
   ],
   "source": [
    "nx.has_path(Go, 3, 5)"
   ]
  },
  {
   "cell_type": "code",
   "execution_count": 33,
   "id": "41fbe945",
   "metadata": {},
   "outputs": [
    {
     "data": {
      "text/plain": [
       "2"
      ]
     },
     "execution_count": 33,
     "metadata": {},
     "output_type": "execute_result"
    }
   ],
   "source": [
    "nx.number_connected_components(Go)"
   ]
  },
  {
   "cell_type": "code",
   "execution_count": 34,
   "id": "11acf539",
   "metadata": {},
   "outputs": [
    {
     "data": {
      "text/plain": [
       "[{1, 2, 3}, {4, 5}]"
      ]
     },
     "execution_count": 34,
     "metadata": {},
     "output_type": "execute_result"
    }
   ],
   "source": [
    "list(nx.connected_components(Go))"
   ]
  },
  {
   "cell_type": "code",
   "execution_count": 36,
   "id": "dda3a1a5",
   "metadata": {},
   "outputs": [
    {
     "data": {
      "text/plain": [
       "3"
      ]
     },
     "execution_count": 36,
     "metadata": {},
     "output_type": "execute_result"
    }
   ],
   "source": [
    "compo = list(nx.connected_components(Go))\n",
    "len(compo[0])"
   ]
  },
  {
   "cell_type": "code",
   "execution_count": 37,
   "id": "72b60539",
   "metadata": {},
   "outputs": [
    {
     "data": {
      "text/plain": [
       "{1, 2, 3}"
      ]
     },
     "execution_count": 37,
     "metadata": {},
     "output_type": "execute_result"
    }
   ],
   "source": [
    "max(nx.connected_components(Go), key=len)"
   ]
  },
  {
   "cell_type": "code",
   "execution_count": 39,
   "id": "85c827ae",
   "metadata": {},
   "outputs": [
    {
     "data": {
      "image/png": "[encoded data removed]",
      "text/plain": [
       "<Figure size 432x288 with 1 Axes>"
      ]
     },
     "metadata": {},
     "output_type": "display_data"
    }
   ],
   "source": [
    "core_nodes = max(nx.connected_components(Go), key=len)\n",
    "core = Go.subgraph(core_nodes)\n",
    "\n",
    "nx.draw(core, with_labels=True,node_size=1500)"
   ]
  },
  {
   "cell_type": "code",
   "execution_count": 43,
   "id": "b8b7888b",
   "metadata": {},
   "outputs": [
    {
     "data": {
      "image/png": "[encoded data removed]",
      "text/plain": [
       "<Figure size 432x288 with 1 Axes>"
      ]
     },
     "metadata": {},
     "output_type": "display_data"
    }
   ],
   "source": [
    "Do = nx.DiGraph()\n",
    "Do.add_edges_from([\n",
    "    (1,2),\n",
    "    (2,3),\n",
    "    (3,2), (3,4), (3,5),\n",
    "    (4,2), (4,5), (4,6),\n",
    "    (5,6),\n",
    "    (6,4),\n",
    "])\n",
    "nx.draw(Do, with_labels=True,node_size = 1230)"
   ]
  },
  {
   "cell_type": "code",
   "execution_count": 44,
   "id": "6d017364",
   "metadata": {},
   "outputs": [
    {
     "data": {
      "text/plain": [
       "True"
      ]
     },
     "execution_count": 44,
     "metadata": {},
     "output_type": "execute_result"
    }
   ],
   "source": [
    "nx.has_path(Do, 1, 4)"
   ]
  },
  {
   "cell_type": "code",
   "execution_count": 45,
   "id": "4c0c8d2f",
   "metadata": {},
   "outputs": [
    {
     "data": {
      "text/plain": [
       "False"
      ]
     },
     "execution_count": 45,
     "metadata": {},
     "output_type": "execute_result"
    }
   ],
   "source": [
    "nx.has_path(Do, 4, 1)"
   ]
  },
  {
   "cell_type": "code",
   "execution_count": 46,
   "id": "0c539030",
   "metadata": {},
   "outputs": [
    {
     "data": {
      "text/plain": [
       "[2, 3, 5]"
      ]
     },
     "execution_count": 46,
     "metadata": {},
     "output_type": "execute_result"
    }
   ],
   "source": [
    "nx.shortest_path(Do, 2, 5)"
   ]
  },
  {
   "cell_type": "code",
   "execution_count": 48,
   "id": "60b8aa5f",
   "metadata": {},
   "outputs": [
    {
     "data": {
      "text/plain": [
       "[5, 6, 4, 2]"
      ]
     },
     "execution_count": 48,
     "metadata": {},
     "output_type": "execute_result"
    }
   ],
   "source": [
    "nx.shortest_path(Do, 5, 2)"
   ]
  },
  {
   "cell_type": "code",
   "execution_count": 49,
   "id": "fe046f3a",
   "metadata": {},
   "outputs": [
    {
     "data": {
      "text/plain": [
       "False"
      ]
     },
     "execution_count": 49,
     "metadata": {},
     "output_type": "execute_result"
    }
   ],
   "source": [
    "nx.is_strongly_connected(Do)"
   ]
  },
  {
   "cell_type": "code",
   "execution_count": 50,
   "id": "81f2e41d",
   "metadata": {},
   "outputs": [
    {
     "data": {
      "text/plain": [
       "True"
      ]
     },
     "execution_count": 50,
     "metadata": {},
     "output_type": "execute_result"
    }
   ],
   "source": [
    "nx.is_weakly_connected(Do)"
   ]
  },
  {
   "cell_type": "code",
   "execution_count": 51,
   "id": "919ba33d",
   "metadata": {},
   "outputs": [
    {
     "data": {
      "text/plain": [
       "[{1, 2, 3, 4, 5, 6}]"
      ]
     },
     "execution_count": 51,
     "metadata": {},
     "output_type": "execute_result"
    }
   ],
   "source": [
    "list(nx.weakly_connected_components(Do))"
   ]
  },
  {
   "cell_type": "code",
   "execution_count": 52,
   "id": "7f17643c",
   "metadata": {},
   "outputs": [
    {
     "data": {
      "text/plain": [
       "[{2, 3, 4, 5, 6}, {1}]"
      ]
     },
     "execution_count": 52,
     "metadata": {},
     "output_type": "execute_result"
    }
   ],
   "source": [
    "list(nx.strongly_connected_components(Do))"
   ]
  },
  {
   "cell_type": "code",
   "execution_count": 53,
   "id": "cc137f0e",
   "metadata": {},
   "outputs": [],
   "source": [
    "GG = nx.read_graphml('openflights_usa.graphml.gz')"
   ]
  },
  {
   "cell_type": "code",
   "execution_count": 55,
   "id": "2d29ec5e",
   "metadata": {},
   "outputs": [
    {
     "data": {
      "text/plain": [
       "{'name': 'Indianapolis International Airport',\n",
       " 'latitude': 39.7173,\n",
       " 'longitude': -86.294403,\n",
       " 'IATA': 'IND'}"
      ]
     },
     "execution_count": 55,
     "metadata": {},
     "output_type": "execute_result"
    }
   ],
   "source": [
    "GG.nodes['IND']"
   ]
  },
  {
   "cell_type": "code",
   "execution_count": 56,
   "id": "59a9ddcd",
   "metadata": {},
   "outputs": [
    {
     "data": {
      "text/plain": [
       "'Indianapolis International Airport'"
      ]
     },
     "execution_count": 56,
     "metadata": {},
     "output_type": "execute_result"
    }
   ],
   "source": [
    "GG.nodes['IND']['name']"
   ]
  },
  {
   "cell_type": "code",
   "execution_count": 68,
   "id": "1728d736",
   "metadata": {},
   "outputs": [
    {
     "name": "stdout",
     "output_type": "stream",
     "text": [
      "No direct flight\n"
     ]
    }
   ],
   "source": [
    "#EXERCISE 1 solution\n",
    "if nx.has_path(GG,'IND','FAI'):\n",
    "    if len(nx.shortest_path(GG,'IND','FAI')) > 2:\n",
    "        print(\"No direct flight\")\n",
    "    else:\n",
    "        print(\"There is a direct flight\")"
   ]
  },
  {
   "cell_type": "code",
   "execution_count": 70,
   "id": "bb01e518",
   "metadata": {},
   "outputs": [
    {
     "data": {
      "text/plain": [
       "['IND', 'BOS', 'SEA', 'FAI']"
      ]
     },
     "execution_count": 70,
     "metadata": {},
     "output_type": "execute_result"
    }
   ],
   "source": [
    "#EXERCISE 2 solution\n",
    "nx.shortest_path(GG,'IND','FAI')"
   ]
  },
  {
   "cell_type": "code",
   "execution_count": 73,
   "id": "b1ce3e09",
   "metadata": {},
   "outputs": [
    {
     "name": "stdout",
     "output_type": "stream",
     "text": [
      "YOU CAN NOT TRAVEL ANYWHRE DIRECTLY\n"
     ]
    }
   ],
   "source": [
    "#EXERCISE 3 solution\n",
    "if nx.is_connected(GG):\n",
    "    print('YOU CAN TRAVEL ANYWHERE DIRECTLY')\n",
    "else:\n",
    "    print('YOU CAN NOT TRAVEL ANYWHRE DIRECTLY')"
   ]
  }
 ],
 "metadata": {
  "kernelspec": {
   "display_name": "Python 3 (ipykernel)",
   "language": "python",
   "name": "python3"
  },
  "language_info": {
   "codemirror_mode": {
    "name": "ipython",
    "version": 3
   },
   "file_extension": ".py",
   "mimetype": "text/x-python",
   "name": "python",
   "nbconvert_exporter": "python",
   "pygments_lexer": "ipython3",
   "version": "3.9.7"
  }
 },
 "nbformat": 4,
 "nbformat_minor": 5
}
